{
 "cells": [
  {
   "cell_type": "markdown",
   "id": "bd6d8115",
   "metadata": {},
   "source": [
    "# База данных футбольных клубов Европы"
   ]
  },
  {
   "cell_type": "code",
   "execution_count": 1,
   "id": "6f395b56",
   "metadata": {},
   "outputs": [],
   "source": [
    "import sqlite3"
   ]
  },
  {
   "cell_type": "markdown",
   "id": "0bb7f686",
   "metadata": {},
   "source": [
    "Устанавливаем соединение с базой данных."
   ]
  },
  {
   "cell_type": "code",
   "execution_count": 2,
   "id": "60326fe3",
   "metadata": {},
   "outputs": [],
   "source": [
    "connection = sqlite3.connect('test_database.db')\n",
    "cursor = connection.cursor()"
   ]
  },
  {
   "cell_type": "markdown",
   "id": "ec30873d",
   "metadata": {},
   "source": [
    "Создаем таблицу."
   ]
  },
  {
   "cell_type": "code",
   "execution_count": 3,
   "id": "b0c59491",
   "metadata": {},
   "outputs": [
    {
     "data": {
      "text/plain": [
       "<sqlite3.Cursor at 0x285f19b8240>"
      ]
     },
     "execution_count": 3,
     "metadata": {},
     "output_type": "execute_result"
    }
   ],
   "source": [
    "cursor.execute('''\n",
    "CREATE TABLE IF NOT EXISTS clubs(\n",
    "id int, \n",
    "name text,\n",
    "city text,\n",
    "stadium text,\n",
    "id_coaches int,\n",
    "foundation int,\n",
    "id_trophies int)\n",
    "                ''')\n",
    "cursor.execute('''\n",
    "CREATE TABLE IF NOT EXISTS coaches(\n",
    "id int,\n",
    "name text,\n",
    "age int)\n",
    "''')\n",
    "\n",
    "cursor.execute(\"\"\"\n",
    "CREATE TABLE IF NOT EXISTS trophies(\n",
    "id int,\n",
    "name text,\n",
    "count int)\n",
    "\"\"\")\n",
    "\n",
    "cursor.execute(\"\"\"\n",
    "CREATE TABLE IF NOT EXISTS players(\n",
    "id int,\n",
    "id_clubs int,\n",
    "name text,\n",
    "id_nations int,\n",
    "age int,\n",
    "position text,\n",
    "price int)\n",
    "\"\"\")\n",
    "\n",
    "cursor.execute(\"\"\"\n",
    "CREATE TABLE IF NOT EXISTS nations(\n",
    "id int,\n",
    "name text)\n",
    "\"\"\")"
   ]
  },
  {
   "cell_type": "code",
   "execution_count": 4,
   "id": "0ae23380",
   "metadata": {},
   "outputs": [
    {
     "data": {
      "text/plain": [
       "'cursor.execute(\"\"\"DROP Table clubs\"\"\")\\ncursor.execute(\"\"\"DROP Table coaches\"\"\")\\ncursor.execute(\"\"\"DROP Table trophies\"\"\")\\ncursor.execute(\"\"\"DROP Table players\"\"\")\\ncursor.execute(\"\"\"DROP Table nations\"\"\")'"
      ]
     },
     "execution_count": 4,
     "metadata": {},
     "output_type": "execute_result"
    }
   ],
   "source": [
    "'''cursor.execute(\"\"\"DROP Table clubs\"\"\")\n",
    "cursor.execute(\"\"\"DROP Table coaches\"\"\")\n",
    "cursor.execute(\"\"\"DROP Table trophies\"\"\")\n",
    "cursor.execute(\"\"\"DROP Table players\"\"\")\n",
    "cursor.execute(\"\"\"DROP Table nations\"\"\")'''"
   ]
  },
  {
   "cell_type": "code",
   "execution_count": 5,
   "id": "78cc40d1",
   "metadata": {},
   "outputs": [
    {
     "data": {
      "text/plain": [
       "<sqlite3.Cursor at 0x285f19b8240>"
      ]
     },
     "execution_count": 5,
     "metadata": {},
     "output_type": "execute_result"
    }
   ],
   "source": [
    "cursor.execute('''\n",
    "INSERT INTO clubs(id, name, city, stadium, id_coaches, foundation, id_trophies) VALUES \n",
    "(1, 'Manchester City', 'Manchester', ' Etihad Stadium', 1,  1880, 1),\n",
    "(2, 'Bayern', 'Munich', 'Allianz Arena', 2, 1900, 2),\n",
    "(3, 'Liverpool', 'Liverpool', 'Anfield', 3, 1892, 3),\n",
    "(4, 'Chelsea', 'London', 'Stamford Bridge', 4, 1905, 4),\n",
    "(5, 'PSG', 'Paris', 'Parc des Princes', 5, 1970, 5),\n",
    "(6, 'Real Madrid', 'Madrid', 'Santiago Bernabeu', 6, 1902, 6),\n",
    "(7, 'Barcelona', 'Barcelona',  'Camp Nou', 7, 1899, 7),\n",
    "(8, 'Manchester United', 'Manchester', 'Old Trafford', 8, 1878, 8),\n",
    "(9, 'Juventus', 'Turin', 'Juventus Stadium', 9, 1897, 9),\n",
    "(10, 'Atletico Madrid', 'Madrid', 'Wanda Metropolitano', 10, 1903, 10),\n",
    "(11, 'Borussia Dortmund', 'Dortmund', 'Signal Iduna Park', 11, 1909, 11),\n",
    "(12, 'Roma', 'Rome', 'Stadio Olimpico', 12, 1927, 12),\n",
    "(13, 'Inter Milan' , 'Milan', 'San Siro', 13, 1908, 13),\n",
    "(14, 'Tottenham', 'London', 'Tottenham Hotspur Stadium', 14, 1882, 14),\n",
    "(15, 'Arsenal', 'London', 'Emirates Stadium', 15, 1886, 15),\n",
    "(16, 'Sevilla', 'Seville', 'Ramon Sanchez Pizjuan Stadium', 16, 1890, 16);\n",
    " ''')\n",
    "\n",
    "cursor.execute('''\n",
    "INSERT INTO coaches(id, name, age) VALUES\n",
    "(1, 'Pep Guardiola', 51),\n",
    "(2, 'Julian Nagelsmann', 35),\n",
    "(3, 'Jurgen Klopp', 55),\n",
    "(4, 'Graham Potter', 47),\n",
    "(5, 'Christophe Galtier', 56),\n",
    "(6, 'Carlo Ancelotti', 63),\n",
    "(7, 'Xavi', 42),\n",
    "(8, 'Erik ten Hag', 52),\n",
    "(9, 'Massimiliano Allegri', 55),\n",
    "(10, 'Diego Simeone', 52),\n",
    "(11, 'Edin Terziс', 40),\n",
    "(12, 'Jose Mourinho', 59),\n",
    "(13, 'Simone Inzaghi', 46),\n",
    "(14, 'Antonio Conte', 53),\n",
    "(15, 'Mikel Arteta', 40),\n",
    "(16, 'Jorge Sampaoli', 62);\n",
    "''')\n",
    "\n",
    "cursor.execute(\"\"\"\n",
    "INSERT INTO trophies(id, name, count) VALUES\n",
    "(1, 'Premier League', 8),\n",
    "(2, 'Champions League', 6),\n",
    "(3, 'Premier League', 19),\n",
    "(4, 'Premier League', 6),\n",
    "(5, 'Ligue 1', 9),\n",
    "(6, 'Champions League', 14),\n",
    "(7, 'Primera', 26),\n",
    "(8, 'Fifa Club World Cup', 1),\n",
    "(9, 'Seria A', 36),\n",
    "(10, 'Europa League', 3),\n",
    "(11, 'German Cup', 5),\n",
    "(12, 'Conference League', 1),\n",
    "(13, 'Champions League', 3),\n",
    "(14, 'UEFA CUP ', 2),\n",
    "(15, 'FA CUP', 14),\n",
    "(16, 'Spanish Cup ', 5);\n",
    "\"\"\")\n",
    "\n",
    "cursor.execute(\"\"\"\n",
    "INSERT INTO players(id, id_clubs, name, id_nations, age, position, price) VALUES\n",
    "(1, 1, 'Erling Haaland', 1, 22, 'Forward',  17000000),\n",
    "(2, 2,'Manuel Neuer', 2, 36, 'Goalkeeper', 12000000),\n",
    "(3, 2,'Sadio Mane', 3, 30, 'Left Winger', 60000000),\n",
    "(4, 3, 'Mohamed Salah', 4, 30, 'Right Winger', 80000000),\n",
    "(5, 4,'Ngolo Kante', 5, 31, 'Midfielder', 30000000),\n",
    "(6, 4,'Raheem Sterling', 6, 27, 'Left Winger', 70000000),\n",
    "(7, 5,'Lionel Messi', 7, 35, 'Right Winger', 50000000),\n",
    "(8, 5,'Neymar', 8, 30, 'Left Winger', 75000000),\n",
    "(9, 6,'Karim Benzema', 5, 34, 'Forward', 35000000),\n",
    "(10, 6, 'Luka Modric', 9, 37, 'Midfielder', 10000000),\n",
    "(11, 7, 'M. ter Stegen', 2, 30, 'Goalkeeper', 30000000),\n",
    "(12, 8, 'Cristiano Ronaldo', 10, 37, 'Forward', 20000000),\n",
    "(13, 9, 'Bremer', 8, 25, 'Centre-Back', 40000000),\n",
    "(14, 9, 'Pogba', 5, 29, 'Midfielder', 35000000),\n",
    "(15, 10, 'Thomas Lemar', 5, 27, 'Left Winger', 30000000),\n",
    "(16, 11, 'Bellingham', 6, 19, 'Midfielder', 100000000),\n",
    "(17, 12, 'Dybala', 7, 29, 'Forward', 30000000),\n",
    "(18, 13, 'Martinez', 7, 25, 'Forward', 75000000),\n",
    "(19, 14, 'Kane', 6, 29, 'Forward', 90000000),\n",
    "(20, 15, 'Saliba', 5, 21, 'Centre-Back', 50000000),\n",
    "(21, 16, 'Lamela', 7, 30, 'Right-Winger', 14000000),\n",
    "(22, 1, 'Ederson', 8, 29, 'Goalkeeper', 45000000),\n",
    "(23, 1, 'Aymeric Laporte', 11, 28, 'Centre-Back', 38000000),\n",
    "(24, 1, 'Kyle Walker', 6, 32, 'Right-Back', 15000000),\n",
    "(25, 1, 'Kevin De Bruyne', 12, 31, 'Midfielder', 80000000),\n",
    "(26, 2, 'Alphonso Davies', 13, 22, 'Left-Back', 70000000),\n",
    "(27, 2, 'Kingsley Coman', 5, 26, 'Right Winger', 60000000),\n",
    "(28, 2, 'Thomas Muller', 2, 33, 'Second Striker', 18000000),\n",
    "(29, 3, 'Alisson', 8, 30, 'Goalkeeper', 50000000),\n",
    "(30, 3, 'Thiago', 11, 31, 'Midfielder', 18000000),\n",
    "(31, 4, 'Thiago Silva', 8, 38, 'Centre-Back', 3000000),\n",
    "(32, 4, 'Mateo Kavacic', 9, 28, 'Midfielder', 40000000),\n",
    "(33, 5, 'Sergio Ramos', 11, 36, 'Centre-Back', 6000000),\n",
    "(34, 5, 'Kylian Mbappe', 5, 23, 'Forward', 160000000),\n",
    "(35, 6, 'Daniel Carvajal', 11, 30, 'Right-Back', 18000000),\n",
    "(36, 6, 'Toni Kroos', 2, 32, 'Midfielder', 20000000),\n",
    "(37, 6, 'Vinicius Junior', 8, 22, 'Left Winger', 120000000),\n",
    "(38, 6, 'Eden Hazard', 12, 31, 'Left Winger', 8000000),\n",
    "(39, 7, 'Gerard Pique', 11, 35, 'Centre-Back', 3000000),\n",
    "(40, 7, 'Jordi Alba', 11, 33, 'Righr-Back', 5000000),\n",
    "(41, 7, 'Sergio Busquets', 11, 34, 'Centre-Back', 5000000),\n",
    "(42, 7, 'Pedri', 11, 20, 'Midfielder', 100000000),\n",
    "(43, 7, 'Gavi', 11, 18, 'Midfielder', 90000000),\n",
    "(44, 7, 'Robert Lewandowski', 14, 34, 'Forward', 45000000),\n",
    "(45, 8, 'David de Gea', 11, 32, 'Goalkeeper', 15000000),\n",
    "(46, 8, 'Raphael Varane', 5, 29, 'Centre-Back', 40000000),\n",
    "(47, 8, 'Harry Maguire', 6, 29, 'Centre-Back', 30000000),\n",
    "(48, 8, 'Casemiro', 8, 30, 'Midfielder', 50000000),\n",
    "(49, 8, 'Bruno Fernandes', 10, 28, 'Midfielder', 75000000),\n",
    "(50, 9, 'Wojciech Szczesny', 14, 32, 'Goalkeeper', 13000000),\n",
    "(51, 9, 'Leonardo Bonucci', 15, 35, 'Centre-Back', 4000000),\n",
    "(52, 9, 'Alex Sandro', 8, 31, 'Left-Back', 5000000),\n",
    "(53, 10, 'Koke', 11, 30, 'Midfielder', 18000000),\n",
    "(54, 10, 'Antoine Griezmann', 5, 31, 'Second Striker', 25000000),\n",
    "(55, 11, 'Mats Hummels', 2, 33, 'Centre-Back', 7000000),\n",
    "(56, 11, 'Marko Reus', 2, 33, 'Midfielder', 9000000),\n",
    "(57, 12, 'Rui Patricio', 10, 34, 'Goalkeeper', 5000000),\n",
    "(58, 12, 'Stephan El Shaarawy', 15, 30, 'Left Winger', 5000000),\n",
    "(59, 13, 'Nicolo Barella', 15, 25, 'Midfielder', 70000000),\n",
    "(60, 13, 'Romelu Lukaku', 12, 29, 'Forward', 55000000),\n",
    "(61, 13, 'Marcelo Brozovic', 9, 30, 'Midfielder', 35000000),\n",
    "(62, 14, 'Hugo Lloris', 5, 35, 'Goalkeeper', 7000000),\n",
    "(63, 14, 'Ivan Perisic', 9, 33, 'Left Winger', 10000000),\n",
    "(64, 14, 'Richarlison', 8, 25, 'Forward', 50000000),\n",
    "(65, 15, 'Bukayo Saka', 6, 21, 'Right Winger', 90000000),\n",
    "(66, 15, 'Martin Odegaard', 1, 23, 'Midfielder', 60000000),\n",
    "(67, 15, 'Gabriel Gesus', 8, 25, 'Forward', 75000000),\n",
    "(68, 16, 'Alex Telles', 8, 29, 'Left-Back', 14000000),\n",
    "(69, 16, 'Jesus Navas', 11, 37, 'Right-Back', 3000000),\n",
    "(70, 16, 'Isco', 11, 30, 'Midfielder', 9000000);\n",
    "\"\"\")\n",
    "\n",
    "cursor.execute(\"\"\"\n",
    "INSERT INTO nations(id, name) VALUES\n",
    "(1, 'Norway'),\n",
    "(2, 'Germany'),\n",
    "(3, 'Senegal'),\n",
    "(4, 'Egypt'),\n",
    "(5, 'France'),\n",
    "(6, 'England'),\n",
    "(7, 'Argentina'),\n",
    "(8, 'Brazil'),\n",
    "(9, 'Croatia'),\n",
    "(10, 'Portugal'),\n",
    "(11, 'Spain'),\n",
    "(12, 'Belgium'),\n",
    "(13, 'Canada'),\n",
    "(14, 'Poland'),\n",
    "(15, 'Italy');\n",
    "\"\"\")"
   ]
  },
  {
   "cell_type": "code",
   "execution_count": 6,
   "id": "357472fe",
   "metadata": {},
   "outputs": [],
   "source": [
    "cursor.execute('SELECT * FROM nations')\n",
    "nation = cursor.fetchall()"
   ]
  },
  {
   "cell_type": "code",
   "execution_count": 7,
   "id": "b6f06dd3",
   "metadata": {},
   "outputs": [
    {
     "name": "stdout",
     "output_type": "stream",
     "text": [
      "(1, 'Norway')\n",
      "(2, 'Germany')\n",
      "(3, 'Senegal')\n",
      "(4, 'Egypt')\n",
      "(5, 'France')\n",
      "(6, 'England')\n",
      "(7, 'Argentina')\n",
      "(8, 'Brazil')\n",
      "(9, 'Croatia')\n",
      "(10, 'Portugal')\n",
      "(11, 'Spain')\n",
      "(12, 'Belgium')\n",
      "(13, 'Canada')\n",
      "(14, 'Poland')\n",
      "(15, 'Italy')\n"
     ]
    }
   ],
   "source": [
    "for el in nation:\n",
    "    print(el)"
   ]
  },
  {
   "cell_type": "code",
   "execution_count": 8,
   "id": "efe201ec",
   "metadata": {},
   "outputs": [
    {
     "name": "stdout",
     "output_type": "stream",
     "text": [
      "('Erling Haaland', 22)\n",
      "('Manuel Neuer', 36)\n",
      "('Sadio Mane', 30)\n",
      "('Mohamed Salah', 30)\n",
      "('Ngolo Kante', 31)\n",
      "('Raheem Sterling', 27)\n",
      "('Lionel Messi', 35)\n",
      "('Neymar', 30)\n",
      "('Karim Benzema', 34)\n",
      "('Luka Modric', 37)\n",
      "('M. ter Stegen', 30)\n",
      "('Cristiano Ronaldo', 37)\n",
      "('Bremer', 25)\n",
      "('Pogba', 29)\n",
      "('Thomas Lemar', 27)\n",
      "('Bellingham', 19)\n",
      "('Dybala', 29)\n",
      "('Martinez', 25)\n",
      "('Kane', 29)\n",
      "('Saliba', 21)\n",
      "('Lamela', 30)\n",
      "('Ederson', 29)\n",
      "('Aymeric Laporte', 28)\n",
      "('Kyle Walker', 32)\n",
      "('Kevin De Bruyne', 31)\n",
      "('Alphonso Davies', 22)\n",
      "('Kingsley Coman', 26)\n",
      "('Thomas Muller', 33)\n",
      "('Alisson', 30)\n",
      "('Thiago', 31)\n",
      "('Thiago Silva', 38)\n",
      "('Mateo Kavacic', 28)\n",
      "('Sergio Ramos', 36)\n",
      "('Kylian Mbappe', 23)\n",
      "('Daniel Carvajal', 30)\n",
      "('Toni Kroos', 32)\n",
      "('Vinicius Junior', 22)\n",
      "('Eden Hazard', 31)\n",
      "('Gerard Pique', 35)\n",
      "('Jordi Alba', 33)\n",
      "('Sergio Busquets', 34)\n",
      "('Pedri', 20)\n",
      "('Gavi', 18)\n",
      "('Robert Lewandowski', 34)\n",
      "('David de Gea', 32)\n",
      "('Raphael Varane', 29)\n",
      "('Harry Maguire', 29)\n",
      "('Casemiro', 30)\n",
      "('Bruno Fernandes', 28)\n",
      "('Wojciech Szczesny', 32)\n",
      "('Leonardo Bonucci', 35)\n",
      "('Alex Sandro', 31)\n",
      "('Koke', 30)\n",
      "('Antoine Griezmann', 31)\n",
      "('Mats Hummels', 33)\n",
      "('Marko Reus', 33)\n",
      "('Rui Patricio', 34)\n",
      "('Stephan El Shaarawy', 30)\n",
      "('Nicolo Barella', 25)\n",
      "('Romelu Lukaku', 29)\n",
      "('Marcelo Brozovic', 30)\n",
      "('Hugo Lloris', 35)\n",
      "('Ivan Perisic', 33)\n",
      "('Richarlison', 25)\n",
      "('Bukayo Saka', 21)\n",
      "('Martin Odegaard', 23)\n",
      "('Gabriel Gesus', 25)\n",
      "('Alex Telles', 29)\n",
      "('Jesus Navas', 37)\n",
      "('Isco', 30)\n"
     ]
    }
   ],
   "source": [
    "cursor.execute('SELECT name, age FROM players')\n",
    "player_s = cursor.fetchall()\n",
    "for el in player_s:\n",
    "    print(el)"
   ]
  },
  {
   "cell_type": "code",
   "execution_count": 9,
   "id": "fc96fa9d",
   "metadata": {},
   "outputs": [
    {
     "name": "stdout",
     "output_type": "stream",
     "text": [
      "('Sadio Mane', 30, 60000000)\n",
      "('Mohamed Salah', 30, 80000000)\n",
      "('Ngolo Kante', 31, 30000000)\n",
      "('Raheem Sterling', 27, 70000000)\n",
      "('Lionel Messi', 35, 50000000)\n",
      "('Neymar', 30, 75000000)\n",
      "('Karim Benzema', 34, 35000000)\n",
      "('M. ter Stegen', 30, 30000000)\n",
      "('Bremer', 25, 40000000)\n",
      "('Pogba', 29, 35000000)\n",
      "('Thomas Lemar', 27, 30000000)\n",
      "('Bellingham', 19, 100000000)\n",
      "('Dybala', 29, 30000000)\n",
      "('Martinez', 25, 75000000)\n",
      "('Kane', 29, 90000000)\n",
      "('Saliba', 21, 50000000)\n",
      "('Ederson', 29, 45000000)\n",
      "('Aymeric Laporte', 28, 38000000)\n",
      "('Kevin De Bruyne', 31, 80000000)\n",
      "('Alphonso Davies', 22, 70000000)\n",
      "('Kingsley Coman', 26, 60000000)\n",
      "('Alisson', 30, 50000000)\n",
      "('Mateo Kavacic', 28, 40000000)\n",
      "('Kylian Mbappe', 23, 160000000)\n",
      "('Vinicius Junior', 22, 120000000)\n",
      "('Pedri', 20, 100000000)\n",
      "('Gavi', 18, 90000000)\n",
      "('Robert Lewandowski', 34, 45000000)\n",
      "('Raphael Varane', 29, 40000000)\n",
      "('Harry Maguire', 29, 30000000)\n",
      "('Casemiro', 30, 50000000)\n",
      "('Bruno Fernandes', 28, 75000000)\n",
      "('Antoine Griezmann', 31, 25000000)\n",
      "('Nicolo Barella', 25, 70000000)\n",
      "('Romelu Lukaku', 29, 55000000)\n",
      "('Marcelo Brozovic', 30, 35000000)\n",
      "('Richarlison', 25, 50000000)\n",
      "('Bukayo Saka', 21, 90000000)\n",
      "('Martin Odegaard', 23, 60000000)\n",
      "('Gabriel Gesus', 25, 75000000)\n"
     ]
    }
   ],
   "source": [
    "cursor.execute(\"SELECT name, age, price FROM players WHERE price > 20000000 \")\n",
    "price_of_players = cursor.fetchall()\n",
    "for el in price_of_players:\n",
    "    print(el)"
   ]
  },
  {
   "cell_type": "markdown",
   "id": "c6aba30a",
   "metadata": {},
   "source": [
    "1. Выбрать игроков, которые младше 22 лет, и их возраст, \n",
    "отсортировать по убыванию возраста."
   ]
  },
  {
   "cell_type": "code",
   "execution_count": 10,
   "id": "4cba2cb2",
   "metadata": {},
   "outputs": [
    {
     "name": "stdout",
     "output_type": "stream",
     "text": [
      "('Gavi', 18)\n",
      "('Bellingham', 19)\n",
      "('Pedri', 20)\n",
      "('Saliba', 21)\n",
      "('Bukayo Saka', 21)\n"
     ]
    }
   ],
   "source": [
    "cursor.execute(\"SELECT name, age FROM players WHERE age < 22 ORDER BY age\")\n",
    "request_1 = cursor.fetchall()\n",
    "for el in request_1:\n",
    "    print(el)"
   ]
  },
  {
   "cell_type": "markdown",
   "id": "669f6f12",
   "metadata": {},
   "source": [
    "2. Выбрать футбольные клубы, расположенные в Лондоне.\n"
   ]
  },
  {
   "cell_type": "code",
   "execution_count": 11,
   "id": "189cbbda",
   "metadata": {},
   "outputs": [
    {
     "name": "stdout",
     "output_type": "stream",
     "text": [
      "id  name  city  stadium  id_coaches  foundation  id_trophies  \n",
      "(4, 'Chelsea', 'London', 'Stamford Bridge', 4, 1905, 4)\n",
      "(14, 'Tottenham', 'London', 'Tottenham Hotspur Stadium', 14, 1882, 14)\n",
      "(15, 'Arsenal', 'London', 'Emirates Stadium', 15, 1886, 15)\n"
     ]
    }
   ],
   "source": [
    "data = cursor.execute(\"SELECT * FROM clubs WHERE city = 'London'\")\n",
    "request_2 = cursor.fetchall()\n",
    "for column in data.description:\n",
    "    print(column[0], end='  ')\n",
    "print()\n",
    "for el in request_2:\n",
    "    print(el)\n"
   ]
  },
  {
   "cell_type": "markdown",
   "id": "b589bfa1",
   "metadata": {},
   "source": [
    "3. Выбрать самый старый футбольный клуб и его год основания."
   ]
  },
  {
   "cell_type": "code",
   "execution_count": 12,
   "id": "753fbad4",
   "metadata": {},
   "outputs": [
    {
     "name": "stdout",
     "output_type": "stream",
     "text": [
      "name  foundation  \n",
      "('Manchester United', 1878)\n"
     ]
    }
   ],
   "source": [
    "data = cursor.execute(\"SELECT name, foundation FROM clubs ORDER BY foundation LIMIT 1 \")\n",
    "request_3 = cursor.fetchall()\n",
    "for column in data.description:\n",
    "    print(column[0], end='  ')\n",
    "print()\n",
    "for el in request_3:\n",
    "    print(el)"
   ]
  },
  {
   "cell_type": "markdown",
   "id": "0b8ce72c",
   "metadata": {},
   "source": [
    "4. Выбрать 3 самых старых вратарей, их возраст и позицию. Вывести в \n",
    "порядке убывания.\n"
   ]
  },
  {
   "cell_type": "code",
   "execution_count": 13,
   "id": "3f478095",
   "metadata": {},
   "outputs": [
    {
     "name": "stdout",
     "output_type": "stream",
     "text": [
      "name  age  position  \n",
      "('Manuel Neuer', 36, 'Goalkeeper')\n",
      "('Hugo Lloris', 35, 'Goalkeeper')\n",
      "('Rui Patricio', 34, 'Goalkeeper')\n"
     ]
    }
   ],
   "source": [
    "data = cursor.execute(\"SELECT name, age, position FROM players WHERE position='Goalkeeper' ORDER BY age DESC LIMIT 3\")\n",
    "request_4 = cursor.fetchall()\n",
    "for column in data.description:\n",
    "    print(column[0], end='  ')\n",
    "print()\n",
    "for el in request_4:\n",
    "    print(el)"
   ]
  },
  {
   "cell_type": "markdown",
   "id": "9b89966e",
   "metadata": {},
   "source": [
    "5. Выбрать клуб и его действующего тренера, вывести в \n",
    "алфавитном порядке.\n"
   ]
  },
  {
   "cell_type": "code",
   "execution_count": 14,
   "id": "2beeedb3",
   "metadata": {},
   "outputs": [
    {
     "name": "stdout",
     "output_type": "stream",
     "text": [
      "name  name  \n",
      "('Arsenal', 'Mikel Arteta')\n",
      "('Atletico Madrid', 'Diego Simeone')\n",
      "('Barcelona', 'Xavi')\n",
      "('Bayern', 'Julian Nagelsmann')\n",
      "('Borussia Dortmund', 'Edin Terziс')\n",
      "('Chelsea', 'Graham Potter')\n",
      "('Inter Milan', 'Simone Inzaghi')\n",
      "('Juventus', 'Massimiliano Allegri')\n",
      "('Liverpool', 'Jurgen Klopp')\n",
      "('Manchester City', 'Pep Guardiola')\n",
      "('Manchester United', 'Erik ten Hag')\n",
      "('PSG', 'Christophe Galtier')\n",
      "('Real Madrid', 'Carlo Ancelotti')\n",
      "('Roma', 'Jose Mourinho')\n",
      "('Sevilla', 'Jorge Sampaoli')\n",
      "('Tottenham', 'Antonio Conte')\n"
     ]
    }
   ],
   "source": [
    "data = cursor.execute(\"SELECT clubs.name, coaches.name FROM coaches INNER JOIN clubs ON clubs.id_coaches=coaches.id ORDER BY clubs.name \")\n",
    "request_5 = cursor.fetchall()\n",
    "for column in data.description:\n",
    "    print(column[0], end='  ')\n",
    "print()\n",
    "for el in request_5:\n",
    "    print(el)"
   ]
  },
  {
   "cell_type": "markdown",
   "id": "a66d5e22",
   "metadata": {},
   "source": [
    "6. Выбрать сборные, и посчитать количество их игроков, \n",
    "представленных в базе, вывести по убыванию."
   ]
  },
  {
   "cell_type": "code",
   "execution_count": 15,
   "id": "7787368c",
   "metadata": {},
   "outputs": [
    {
     "name": "stdout",
     "output_type": "stream",
     "text": [
      "name  COUNT(players.id)  \n",
      "('Spain', 13)\n",
      "('Brazil', 11)\n",
      "('France', 10)\n",
      "('Germany', 6)\n",
      "('England', 6)\n",
      "('Croatia', 4)\n",
      "('Argentina', 4)\n",
      "('Portugal', 3)\n",
      "('Italy', 3)\n",
      "('Belgium', 3)\n",
      "('Poland', 2)\n",
      "('Norway', 2)\n",
      "('Senegal', 1)\n",
      "('Egypt', 1)\n",
      "('Canada', 1)\n"
     ]
    }
   ],
   "source": [
    "data = cursor.execute(\"SELECT nations.name, COUNT(players.id) FROM nations INNER JOIN players ON players.id_nations=nations.id GROUP BY nations.name ORDER BY COUNT(players.id) DESC\")\n",
    "request_6 = cursor.fetchall()\n",
    "for column in data.description:\n",
    "    print(column[0], end='  ')\n",
    "print()\n",
    "for el in request_6:\n",
    "    print(el)"
   ]
  },
  {
   "cell_type": "markdown",
   "id": "c80e2f19",
   "metadata": {},
   "source": [
    "7. Выбрать клуб с самым большим количеством трофеев, вывести \n",
    "название трофея и количество."
   ]
  },
  {
   "cell_type": "code",
   "execution_count": 16,
   "id": "116d6414",
   "metadata": {},
   "outputs": [
    {
     "name": "stdout",
     "output_type": "stream",
     "text": [
      "name  name  count  \n",
      "('Juventus', 'Seria A', 36)\n"
     ]
    }
   ],
   "source": [
    "data = cursor.execute(\"SELECT clubs.name, trophies.name, trophies.count FROM clubs INNER JOIN trophies on trophies.id = clubs.id_trophies ORDER BY trophies.count DESC LIMIT 1\")\n",
    "request_7 = cursor.fetchall()\n",
    "for column in data.description:\n",
    "    print(column[0], end='  ')\n",
    "print()\n",
    "for el in request_7:\n",
    "    print(el)"
   ]
  },
  {
   "cell_type": "markdown",
   "id": "edaece5e",
   "metadata": {},
   "source": [
    "8. Вывести клуб с наибольшим количеством испанцев, и их количество."
   ]
  },
  {
   "cell_type": "code",
   "execution_count": 17,
   "id": "785f839c",
   "metadata": {},
   "outputs": [
    {
     "name": "stdout",
     "output_type": "stream",
     "text": [
      "name COUNT(players.id) \n",
      "('Barcelona', 5)\n"
     ]
    }
   ],
   "source": [
    "data = cursor.execute(\"\"\"SELECT clubs.name, COUNT(players.id) FROM clubs \n",
    "                        INNER JOIN players \n",
    "                        on clubs.id = players.id_clubs  \n",
    "                        INNER JOIN nations \n",
    "                        on players.id_nations = nations.id \n",
    "                        WHERE nations.name='Spain'\n",
    "                        GROUP BY clubs.name \n",
    "                        ORDER BY COUNT(players.id)\n",
    "                        DESC LIMIT 1\"\"\")\n",
    "request_8 = cursor.fetchall()\n",
    "for column in data.description:\n",
    "    print(column[0], end=' ')\n",
    "print()\n",
    "for el in request_8:\n",
    "    print(el)"
   ]
  },
  {
   "cell_type": "markdown",
   "id": "c2a98a85",
   "metadata": {},
   "source": [
    "9. Вывести в порядке убывания стоимости, название клуба и игроков, \n",
    "чья стоимость выше средней."
   ]
  },
  {
   "cell_type": "code",
   "execution_count": 18,
   "id": "25a32d47",
   "metadata": {},
   "outputs": [
    {
     "name": "stdout",
     "output_type": "stream",
     "text": [
      "name  price  name  \n",
      "('Kylian Mbappe', 160000000, 'PSG')\n",
      "('Vinicius Junior', 120000000, 'Real Madrid')\n",
      "('Bellingham', 100000000, 'Borussia Dortmund')\n",
      "('Pedri', 100000000, 'Barcelona')\n",
      "('Kane', 90000000, 'Tottenham')\n",
      "('Gavi', 90000000, 'Barcelona')\n",
      "('Bukayo Saka', 90000000, 'Arsenal')\n",
      "('Mohamed Salah', 80000000, 'Liverpool')\n",
      "('Kevin De Bruyne', 80000000, 'Manchester City')\n",
      "('Neymar', 75000000, 'PSG')\n",
      "('Martinez', 75000000, 'Inter Milan')\n",
      "('Bruno Fernandes', 75000000, 'Manchester United')\n",
      "('Gabriel Gesus', 75000000, 'Arsenal')\n",
      "('Raheem Sterling', 70000000, 'Chelsea')\n",
      "('Alphonso Davies', 70000000, 'Bayern')\n",
      "('Nicolo Barella', 70000000, 'Inter Milan')\n",
      "('Sadio Mane', 60000000, 'Bayern')\n",
      "('Kingsley Coman', 60000000, 'Bayern')\n",
      "('Martin Odegaard', 60000000, 'Arsenal')\n",
      "('Romelu Lukaku', 55000000, 'Inter Milan')\n",
      "('Lionel Messi', 50000000, 'PSG')\n",
      "('Saliba', 50000000, 'Arsenal')\n",
      "('Alisson', 50000000, 'Liverpool')\n",
      "('Casemiro', 50000000, 'Manchester United')\n",
      "('Richarlison', 50000000, 'Tottenham')\n",
      "('Ederson', 45000000, 'Manchester City')\n",
      "('Robert Lewandowski', 45000000, 'Barcelona')\n",
      "('Bremer', 40000000, 'Juventus')\n",
      "('Mateo Kavacic', 40000000, 'Chelsea')\n",
      "('Raphael Varane', 40000000, 'Manchester United')\n"
     ]
    }
   ],
   "source": [
    "data = cursor.execute(\"\"\"SELECT players.name, players.price, clubs.name  \n",
    "                      FROM players\n",
    "                      JOIN clubs\n",
    "                      on players.id_clubs = clubs.id\n",
    "                      WHERE price > (SELECT AVG(price) FROM players)\n",
    "                      ORDER BY players.price DESC \"\"\")\n",
    "request_9 = cursor.fetchall()\n",
    "for column in data.description:\n",
    "    print(column[0], end='  ')\n",
    "print()\n",
    "for el in request_9:\n",
    "    print(el)"
   ]
  },
  {
   "cell_type": "markdown",
   "id": "34866b24",
   "metadata": {},
   "source": [
    "10. Вывести 2 самых дорогих нападающих из Лондонских клубов в \n",
    "порядке убывания."
   ]
  },
  {
   "cell_type": "code",
   "execution_count": 19,
   "id": "4b92ca8c",
   "metadata": {},
   "outputs": [
    {
     "name": "stdout",
     "output_type": "stream",
     "text": [
      "name  price  name  \n",
      "('Kane', 90000000, 'Tottenham')\n",
      "('Gabriel Gesus', 75000000, 'Arsenal')\n"
     ]
    }
   ],
   "source": [
    "data = cursor.execute(\"\"\"SELECT players.name, players.price, clubs.name FROM players\n",
    "                         JOIN clubs\n",
    "                        on clubs.id = players.id_clubs\n",
    "                        WHERE players.position='Forward'\n",
    "                        and clubs.city='London' ORDER BY players.price DESC LIMIT 2\"\"\")\n",
    "request_10 = cursor.fetchall()\n",
    "for column in data.description:\n",
    "    print(column[0], end='  ')\n",
    "print()\n",
    "for el in request_10:\n",
    "    print(el)"
   ]
  }
 ],
 "metadata": {
  "kernelspec": {
   "display_name": "Python 3 (ipykernel)",
   "language": "python",
   "name": "python3"
  },
  "language_info": {
   "codemirror_mode": {
    "name": "ipython",
    "version": 3
   },
   "file_extension": ".py",
   "mimetype": "text/x-python",
   "name": "python",
   "nbconvert_exporter": "python",
   "pygments_lexer": "ipython3",
   "version": "3.11.5"
  }
 },
 "nbformat": 4,
 "nbformat_minor": 5
}
